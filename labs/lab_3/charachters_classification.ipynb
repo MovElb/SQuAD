{
 "cells": [
  {
   "cell_type": "markdown",
   "metadata": {},
   "source": [
    "## Notebook requiers a lot of RAM. So save data and reload notebook on HDD.(already implemented)"
   ]
  },
  {
   "cell_type": "code",
   "execution_count": 1,
   "metadata": {},
   "outputs": [
    {
     "name": "stderr",
     "output_type": "stream",
     "text": [
      "/usr/local/lib/python3.5/dist-packages/h5py/__init__.py:36: FutureWarning: Conversion of the second argument of issubdtype from `float` to `np.floating` is deprecated. In future, it will be treated as `np.float64 == np.dtype(float).type`.\n",
      "  from ._conv import register_converters as _register_converters\n",
      "Using TensorFlow backend.\n"
     ]
    }
   ],
   "source": [
    "import numpy as np\n",
    "\n",
    "from IPython.display import SVG\n",
    "\n",
    "from keras.utils.vis_utils import model_to_dot\n",
    "from keras.models import Model\n",
    "from keras.layers import Input, Flatten, Dropout\n",
    "from keras.layers import Convolution2D, MaxPooling2D, Dense, AveragePooling2D, BatchNormalization\n",
    "from keras.activations import relu\n",
    "from keras.regularizers import l2\n",
    "from keras.optimizers import *\n",
    "from keras.losses import categorical_crossentropy\n",
    "\n",
    "import matplotlib.pyplot as plt\n",
    "\n",
    "from skimage.transform import resize\n",
    "from skimage.feature import hog\n",
    "\n",
    "from sklearn.model_selection import train_test_split\n",
    "from sklearn.preprocessing import OneHotEncoder\n",
    "\n",
    "from tqdm import tqdm\n",
    "\n",
    "%matplotlib inline"
   ]
  },
  {
   "cell_type": "code",
   "execution_count": 2,
   "metadata": {},
   "outputs": [],
   "source": [
    "IMG_SZ = (64, 64)\n",
    "N_LABELS = 1000\n",
    "BATCH_SZ = 64"
   ]
  },
  {
   "cell_type": "code",
   "execution_count": null,
   "metadata": {},
   "outputs": [],
   "source": [
    "d_part_1 = np.load(\"../data/train/train-1.npy\")\n",
    "print(\"train-1.npy is loaded\")\n",
    "d_part_2 = np.load(\"../data/train/train-2.npy\")\n",
    "print(\"train-2.npy is loaded\")\n",
    "d_part_3 = np.load(\"../data/train/train-3.npy\")\n",
    "print(\"train-3.npy is loaded\")\n",
    "d_part_4 = np.load(\"../data/train/train-4.npy\")\n",
    "print(\"train-4.npy is loaded\")"
   ]
  },
  {
   "cell_type": "code",
   "execution_count": null,
   "metadata": {},
   "outputs": [],
   "source": [
    "data_train = np.concatenate((d_part_1, d_part_2, d_part_3, d_part_4), axis=0)\n",
    "labels = data_train[:, 1].reshape(-1, 1)"
   ]
  },
  {
   "cell_type": "code",
   "execution_count": null,
   "metadata": {},
   "outputs": [],
   "source": [
    "plt.figure(9, (8, 8))\n",
    "\n",
    "for i in range(9):\n",
    "    plt.subplot(3, 3, i + 1)\n",
    "    plt.imshow(data_train[i][0], cmap='gray')"
   ]
  },
  {
   "cell_type": "code",
   "execution_count": null,
   "metadata": {},
   "outputs": [],
   "source": [
    "IMG_SZ = (64, 64)\n",
    "hieroglyphs = np.empty((data_train.shape[0], IMG_SZ[0], IMG_SZ[1]))\n",
    "\n",
    "for i in tqdm(range(hieroglyphs.shape[0])):\n",
    "    hieroglyphs[i] = resize(data_train[i][0], IMG_SZ)"
   ]
  },
  {
   "cell_type": "code",
   "execution_count": null,
   "metadata": {},
   "outputs": [],
   "source": [
    "hieroglyphs -= hieroglyphs.mean(axis=0)"
   ]
  },
  {
   "cell_type": "code",
   "execution_count": null,
   "metadata": {},
   "outputs": [],
   "source": [
    "np.save(\"../data/train/hier.npy\", hieroglyphs)\n",
    "np.save(\"../data/train/labels.npy\", labels)"
   ]
  },
  {
   "cell_type": "code",
   "execution_count": null,
   "metadata": {},
   "outputs": [],
   "source": [
    "hieroglyphs = np.load(\"../data/train/hier.npy\")\n",
    "labels = np.load(\"../data/train/labels.npy\")"
   ]
  },
  {
   "cell_type": "code",
   "execution_count": null,
   "metadata": {},
   "outputs": [],
   "source": [
    "enc = OneHotEncoder()\n",
    "enc.fit(labels)\n",
    "one_hot_l = enc.transform(labels).toarray()\n",
    "\n",
    "X_train, X_test, y_train, y_test = train_test_split(hieroglyphs, \n",
    "                                                    one_hot_l, \n",
    "                                                    test_size=0.15, \n",
    "                                                    random_state=42)"
   ]
  },
  {
   "cell_type": "code",
   "execution_count": null,
   "metadata": {},
   "outputs": [],
   "source": [
    "np.save(\"../data/train/X_train.npy\", X_train)\n",
    "np.save(\"../data/train/X_test\", X_test)\n",
    "np.save(\"../data/train/y_train.npy\", y_train)\n",
    "np.save(\"../data/train/y_test.npy\", y_test)\n",
    "np.save(\"../data/train/map.npy\", enc.active_features_)"
   ]
  },
  {
   "cell_type": "code",
   "execution_count": 3,
   "metadata": {},
   "outputs": [],
   "source": [
    "X_train = np.load(\"../data/train/X_train.npy\")\n",
    "X_test = np.load(\"../data/train/X_test.npy\")\n",
    "y_train = np.load(\"../data/train/y_train.npy\")\n",
    "y_test = np.load(\"../data/train/y_test.npy\")\n",
    "act_features = np.load(\"../data/train/map.npy\")"
   ]
  },
  {
   "cell_type": "code",
   "execution_count": 4,
   "metadata": {},
   "outputs": [],
   "source": [
    "X_train = X_train.reshape(X_train.shape[0], X_train.shape[1], X_train.shape[2], 1)\n",
    "X_test = X_test.reshape(X_test.shape[0], X_test.shape[1], X_test.shape[2], 1)"
   ]
  },
  {
   "cell_type": "code",
   "execution_count": 6,
   "metadata": {},
   "outputs": [],
   "source": [
    "# Use this cell for training on full dataset\n",
    "# X_train = np.concatenate([X_train, X_test], axis=0)\n",
    "# y_train = np.concatenate([y_train, y_test], axis=0)"
   ]
  },
  {
   "cell_type": "code",
   "execution_count": 7,
   "metadata": {},
   "outputs": [],
   "source": [
    "def cnn(input1_shape, n_classes):\n",
    "    inp_1 = Input(shape=input1_shape, name=\"Input_1\")\n",
    "    \n",
    "    leaky_relu = lambda x: relu(x, alpha=5.0e-2)\n",
    "    regularization_coef = 1.0e-4\n",
    "    \n",
    "    drop_1 = Dropout(0.2)(inp_1)\n",
    "    con_1 = Convolution2D(\n",
    "        filters=64,                  \n",
    "        kernel_size=(5, 5),\n",
    "        padding='same',\n",
    "        activation=leaky_relu,\n",
    "        kernel_regularizer=l2(regularization_coef),\n",
    "        name=\"Convolution_1\"\n",
    "    )(drop_1)\n",
    "    btch_1 = BatchNormalization(axis=3, name=\"BatchNorm_1\")(con_1)\n",
    "    \n",
    "    con_2 = Convolution2D(\n",
    "        filters=64,                  \n",
    "        kernel_size=(5, 5),\n",
    "        padding='same',\n",
    "        activation=leaky_relu,\n",
    "        kernel_regularizer=l2(regularization_coef),\n",
    "        name=\"Convolution_2\"\n",
    "    )(btch_1)\n",
    "    btch_2 = BatchNormalization(axis=3, name=\"BatchNorm_2\")(con_2)\n",
    "    pool_1 = MaxPooling2D(pool_size=(2, 2), name=\"MaxPooling_1\")(btch_2)\n",
    "    \n",
    "    drop_2 = Dropout(0.2)(pool_1)\n",
    "    con_3 = Convolution2D(\n",
    "        filters=128,                  \n",
    "        kernel_size=(5, 5),\n",
    "        padding='same',\n",
    "        activation=leaky_relu,\n",
    "        kernel_regularizer=l2(regularization_coef),\n",
    "        name=\"Convolution_3\"\n",
    "    )(drop_2)\n",
    "    btch_3 = BatchNormalization(axis=3, name=\"BatchNorm_3\")(con_3)\n",
    "    \n",
    "    con_4 = Convolution2D(\n",
    "        filters=128,           \n",
    "        kernel_size=(5, 5),\n",
    "        padding='same',\n",
    "        activation=leaky_relu,\n",
    "        kernel_regularizer=l2(regularization_coef),\n",
    "        name=\"Convolution_4\"\n",
    "    )(btch_3)\n",
    "    btch_4 = BatchNormalization(axis=3, name=\"BatchNorm_4\")(con_4)\n",
    "    pool_2 = MaxPooling2D(pool_size=(2, 2), name='MaxPooling_2')(btch_4)\n",
    "    \n",
    "    drop_3 = Dropout(0.2)(pool_2)\n",
    "    con_5 = Convolution2D(\n",
    "        filters=256,                  \n",
    "        kernel_size=(5, 5),\n",
    "        padding='same',\n",
    "        activation=leaky_relu,\n",
    "        kernel_regularizer=l2(regularization_coef),\n",
    "        name=\"Convolution_5\"\n",
    "    )(drop_3)\n",
    "    btch_5 = BatchNormalization(axis=3, name=\"BatchNorm_5\")(con_5)\n",
    "    pool_3 = MaxPooling2D(pool_size=(3, 3), strides=(2, 2), name='MaxPooling2D_3')(btch_5)\n",
    "    \n",
    "    flat_1 = Flatten()(pool_3)\n",
    "    \n",
    "    drop_4 = Dropout(0.5)(flat_1)\n",
    "    den_1 = Dense(\n",
    "        units = 3000,\n",
    "        activation=leaky_relu,\n",
    "        kernel_regularizer=l2(regularization_coef),\n",
    "        name=\"Dense_1\"\n",
    "    )(drop_4)\n",
    "    \n",
    "    drop_5 = Dropout(0.5)(den_1)\n",
    "    den_2 = Dense(\n",
    "        units = 2500,\n",
    "        activation=leaky_relu,\n",
    "        kernel_regularizer=l2(regularization_coef),\n",
    "        name=\"Dense_2\"\n",
    "    )(drop_5)\n",
    "    \n",
    "    drop_6 = Dropout(0.5)(den_2)\n",
    "    den_3 = Dense(\n",
    "        units = n_classes,\n",
    "        activation=\"softmax\",\n",
    "        kernel_regularizer=l2(regularization_coef),\n",
    "        name=\"Dense_3\"\n",
    "    )(drop_6)\n",
    "    \n",
    "    return Model(inputs=inp_1, outputs=den_3)"
   ]
  },
  {
   "cell_type": "code",
   "execution_count": 8,
   "metadata": {},
   "outputs": [
    {
     "data": {
      "image/svg+xml": [
       "<svg height=\"1724pt\" viewBox=\"0.00 0.00 277.00 1724.00\" width=\"277pt\" xmlns=\"http://www.w3.org/2000/svg\" xmlns:xlink=\"http://www.w3.org/1999/xlink\">\n",
       "<g class=\"graph\" id=\"graph0\" transform=\"scale(1 1) rotate(0) translate(4 1720)\">\n",
       "<title>G</title>\n",
       "<polygon fill=\"white\" points=\"-4,4 -4,-1720 273,-1720 273,4 -4,4\" stroke=\"none\"/>\n",
       "<!-- 139877585985664 -->\n",
       "<g class=\"node\" id=\"node1\"><title>139877585985664</title>\n",
       "<polygon fill=\"none\" points=\"54,-1679.5 54,-1715.5 215,-1715.5 215,-1679.5 54,-1679.5\" stroke=\"black\"/>\n",
       "<text font-family=\"Times,serif\" font-size=\"14.00\" text-anchor=\"middle\" x=\"134.5\" y=\"-1693.8\">Input_1: InputLayer</text>\n",
       "</g>\n",
       "<!-- 139877585988576 -->\n",
       "<g class=\"node\" id=\"node2\"><title>139877585988576</title>\n",
       "<polygon fill=\"none\" points=\"56,-1606.5 56,-1642.5 213,-1642.5 213,-1606.5 56,-1606.5\" stroke=\"black\"/>\n",
       "<text font-family=\"Times,serif\" font-size=\"14.00\" text-anchor=\"middle\" x=\"134.5\" y=\"-1620.8\">dropout_1: Dropout</text>\n",
       "</g>\n",
       "<!-- 139877585985664&#45;&gt;139877585988576 -->\n",
       "<g class=\"edge\" id=\"edge1\"><title>139877585985664-&gt;139877585988576</title>\n",
       "<path d=\"M134.5,-1679.31C134.5,-1671.29 134.5,-1661.55 134.5,-1652.57\" fill=\"none\" stroke=\"black\"/>\n",
       "<polygon fill=\"black\" points=\"138,-1652.53 134.5,-1642.53 131,-1652.53 138,-1652.53\" stroke=\"black\"/>\n",
       "</g>\n",
       "<!-- 139877585988128 -->\n",
       "<g class=\"node\" id=\"node3\"><title>139877585988128</title>\n",
       "<polygon fill=\"none\" points=\"42,-1533.5 42,-1569.5 227,-1569.5 227,-1533.5 42,-1533.5\" stroke=\"black\"/>\n",
       "<text font-family=\"Times,serif\" font-size=\"14.00\" text-anchor=\"middle\" x=\"134.5\" y=\"-1547.8\">Convolution_1: Conv2D</text>\n",
       "</g>\n",
       "<!-- 139877585988576&#45;&gt;139877585988128 -->\n",
       "<g class=\"edge\" id=\"edge2\"><title>139877585988576-&gt;139877585988128</title>\n",
       "<path d=\"M134.5,-1606.31C134.5,-1598.29 134.5,-1588.55 134.5,-1579.57\" fill=\"none\" stroke=\"black\"/>\n",
       "<polygon fill=\"black\" points=\"138,-1579.53 134.5,-1569.53 131,-1579.53 138,-1579.53\" stroke=\"black\"/>\n",
       "</g>\n",
       "<!-- 139879919383384 -->\n",
       "<g class=\"node\" id=\"node4\"><title>139879919383384</title>\n",
       "<polygon fill=\"none\" points=\"0,-1460.5 0,-1496.5 269,-1496.5 269,-1460.5 0,-1460.5\" stroke=\"black\"/>\n",
       "<text font-family=\"Times,serif\" font-size=\"14.00\" text-anchor=\"middle\" x=\"134.5\" y=\"-1474.8\">BatchNorm_1: BatchNormalization</text>\n",
       "</g>\n",
       "<!-- 139877585988128&#45;&gt;139879919383384 -->\n",
       "<g class=\"edge\" id=\"edge3\"><title>139877585988128-&gt;139879919383384</title>\n",
       "<path d=\"M134.5,-1533.31C134.5,-1525.29 134.5,-1515.55 134.5,-1506.57\" fill=\"none\" stroke=\"black\"/>\n",
       "<polygon fill=\"black\" points=\"138,-1506.53 134.5,-1496.53 131,-1506.53 138,-1506.53\" stroke=\"black\"/>\n",
       "</g>\n",
       "<!-- 139864009961200 -->\n",
       "<g class=\"node\" id=\"node5\"><title>139864009961200</title>\n",
       "<polygon fill=\"none\" points=\"42,-1387.5 42,-1423.5 227,-1423.5 227,-1387.5 42,-1387.5\" stroke=\"black\"/>\n",
       "<text font-family=\"Times,serif\" font-size=\"14.00\" text-anchor=\"middle\" x=\"134.5\" y=\"-1401.8\">Convolution_2: Conv2D</text>\n",
       "</g>\n",
       "<!-- 139879919383384&#45;&gt;139864009961200 -->\n",
       "<g class=\"edge\" id=\"edge4\"><title>139879919383384-&gt;139864009961200</title>\n",
       "<path d=\"M134.5,-1460.31C134.5,-1452.29 134.5,-1442.55 134.5,-1433.57\" fill=\"none\" stroke=\"black\"/>\n",
       "<polygon fill=\"black\" points=\"138,-1433.53 134.5,-1423.53 131,-1433.53 138,-1433.53\" stroke=\"black\"/>\n",
       "</g>\n",
       "<!-- 139850434185984 -->\n",
       "<g class=\"node\" id=\"node6\"><title>139850434185984</title>\n",
       "<polygon fill=\"none\" points=\"0,-1314.5 0,-1350.5 269,-1350.5 269,-1314.5 0,-1314.5\" stroke=\"black\"/>\n",
       "<text font-family=\"Times,serif\" font-size=\"14.00\" text-anchor=\"middle\" x=\"134.5\" y=\"-1328.8\">BatchNorm_2: BatchNormalization</text>\n",
       "</g>\n",
       "<!-- 139864009961200&#45;&gt;139850434185984 -->\n",
       "<g class=\"edge\" id=\"edge5\"><title>139864009961200-&gt;139850434185984</title>\n",
       "<path d=\"M134.5,-1387.31C134.5,-1379.29 134.5,-1369.55 134.5,-1360.57\" fill=\"none\" stroke=\"black\"/>\n",
       "<polygon fill=\"black\" points=\"138,-1360.53 134.5,-1350.53 131,-1360.53 138,-1360.53\" stroke=\"black\"/>\n",
       "</g>\n",
       "<!-- 139850433889616 -->\n",
       "<g class=\"node\" id=\"node7\"><title>139850433889616</title>\n",
       "<polygon fill=\"none\" points=\"19.5,-1241.5 19.5,-1277.5 249.5,-1277.5 249.5,-1241.5 19.5,-1241.5\" stroke=\"black\"/>\n",
       "<text font-family=\"Times,serif\" font-size=\"14.00\" text-anchor=\"middle\" x=\"134.5\" y=\"-1255.8\">MaxPooling_1: MaxPooling2D</text>\n",
       "</g>\n",
       "<!-- 139850434185984&#45;&gt;139850433889616 -->\n",
       "<g class=\"edge\" id=\"edge6\"><title>139850434185984-&gt;139850433889616</title>\n",
       "<path d=\"M134.5,-1314.31C134.5,-1306.29 134.5,-1296.55 134.5,-1287.57\" fill=\"none\" stroke=\"black\"/>\n",
       "<polygon fill=\"black\" points=\"138,-1287.53 134.5,-1277.53 131,-1287.53 138,-1287.53\" stroke=\"black\"/>\n",
       "</g>\n",
       "<!-- 139850433386480 -->\n",
       "<g class=\"node\" id=\"node8\"><title>139850433386480</title>\n",
       "<polygon fill=\"none\" points=\"56,-1168.5 56,-1204.5 213,-1204.5 213,-1168.5 56,-1168.5\" stroke=\"black\"/>\n",
       "<text font-family=\"Times,serif\" font-size=\"14.00\" text-anchor=\"middle\" x=\"134.5\" y=\"-1182.8\">dropout_2: Dropout</text>\n",
       "</g>\n",
       "<!-- 139850433889616&#45;&gt;139850433386480 -->\n",
       "<g class=\"edge\" id=\"edge7\"><title>139850433889616-&gt;139850433386480</title>\n",
       "<path d=\"M134.5,-1241.31C134.5,-1233.29 134.5,-1223.55 134.5,-1214.57\" fill=\"none\" stroke=\"black\"/>\n",
       "<polygon fill=\"black\" points=\"138,-1214.53 134.5,-1204.53 131,-1214.53 138,-1214.53\" stroke=\"black\"/>\n",
       "</g>\n",
       "<!-- 139850433764040 -->\n",
       "<g class=\"node\" id=\"node9\"><title>139850433764040</title>\n",
       "<polygon fill=\"none\" points=\"42,-1095.5 42,-1131.5 227,-1131.5 227,-1095.5 42,-1095.5\" stroke=\"black\"/>\n",
       "<text font-family=\"Times,serif\" font-size=\"14.00\" text-anchor=\"middle\" x=\"134.5\" y=\"-1109.8\">Convolution_3: Conv2D</text>\n",
       "</g>\n",
       "<!-- 139850433386480&#45;&gt;139850433764040 -->\n",
       "<g class=\"edge\" id=\"edge8\"><title>139850433386480-&gt;139850433764040</title>\n",
       "<path d=\"M134.5,-1168.31C134.5,-1160.29 134.5,-1150.55 134.5,-1141.57\" fill=\"none\" stroke=\"black\"/>\n",
       "<polygon fill=\"black\" points=\"138,-1141.53 134.5,-1131.53 131,-1141.53 138,-1141.53\" stroke=\"black\"/>\n",
       "</g>\n",
       "<!-- 139850433465760 -->\n",
       "<g class=\"node\" id=\"node10\"><title>139850433465760</title>\n",
       "<polygon fill=\"none\" points=\"0,-1022.5 0,-1058.5 269,-1058.5 269,-1022.5 0,-1022.5\" stroke=\"black\"/>\n",
       "<text font-family=\"Times,serif\" font-size=\"14.00\" text-anchor=\"middle\" x=\"134.5\" y=\"-1036.8\">BatchNorm_3: BatchNormalization</text>\n",
       "</g>\n",
       "<!-- 139850433764040&#45;&gt;139850433465760 -->\n",
       "<g class=\"edge\" id=\"edge9\"><title>139850433764040-&gt;139850433465760</title>\n",
       "<path d=\"M134.5,-1095.31C134.5,-1087.29 134.5,-1077.55 134.5,-1068.57\" fill=\"none\" stroke=\"black\"/>\n",
       "<polygon fill=\"black\" points=\"138,-1068.53 134.5,-1058.53 131,-1068.53 138,-1068.53\" stroke=\"black\"/>\n",
       "</g>\n",
       "<!-- 139850432951576 -->\n",
       "<g class=\"node\" id=\"node11\"><title>139850432951576</title>\n",
       "<polygon fill=\"none\" points=\"42,-949.5 42,-985.5 227,-985.5 227,-949.5 42,-949.5\" stroke=\"black\"/>\n",
       "<text font-family=\"Times,serif\" font-size=\"14.00\" text-anchor=\"middle\" x=\"134.5\" y=\"-963.8\">Convolution_4: Conv2D</text>\n",
       "</g>\n",
       "<!-- 139850433465760&#45;&gt;139850432951576 -->\n",
       "<g class=\"edge\" id=\"edge10\"><title>139850433465760-&gt;139850432951576</title>\n",
       "<path d=\"M134.5,-1022.31C134.5,-1014.29 134.5,-1004.55 134.5,-995.569\" fill=\"none\" stroke=\"black\"/>\n",
       "<polygon fill=\"black\" points=\"138,-995.529 134.5,-985.529 131,-995.529 138,-995.529\" stroke=\"black\"/>\n",
       "</g>\n",
       "<!-- 139850433012736 -->\n",
       "<g class=\"node\" id=\"node12\"><title>139850433012736</title>\n",
       "<polygon fill=\"none\" points=\"0,-876.5 0,-912.5 269,-912.5 269,-876.5 0,-876.5\" stroke=\"black\"/>\n",
       "<text font-family=\"Times,serif\" font-size=\"14.00\" text-anchor=\"middle\" x=\"134.5\" y=\"-890.8\">BatchNorm_4: BatchNormalization</text>\n",
       "</g>\n",
       "<!-- 139850432951576&#45;&gt;139850433012736 -->\n",
       "<g class=\"edge\" id=\"edge11\"><title>139850432951576-&gt;139850433012736</title>\n",
       "<path d=\"M134.5,-949.313C134.5,-941.289 134.5,-931.547 134.5,-922.569\" fill=\"none\" stroke=\"black\"/>\n",
       "<polygon fill=\"black\" points=\"138,-922.529 134.5,-912.529 131,-922.529 138,-922.529\" stroke=\"black\"/>\n",
       "</g>\n",
       "<!-- 139850432445464 -->\n",
       "<g class=\"node\" id=\"node13\"><title>139850432445464</title>\n",
       "<polygon fill=\"none\" points=\"19.5,-803.5 19.5,-839.5 249.5,-839.5 249.5,-803.5 19.5,-803.5\" stroke=\"black\"/>\n",
       "<text font-family=\"Times,serif\" font-size=\"14.00\" text-anchor=\"middle\" x=\"134.5\" y=\"-817.8\">MaxPooling_2: MaxPooling2D</text>\n",
       "</g>\n",
       "<!-- 139850433012736&#45;&gt;139850432445464 -->\n",
       "<g class=\"edge\" id=\"edge12\"><title>139850433012736-&gt;139850432445464</title>\n",
       "<path d=\"M134.5,-876.313C134.5,-868.289 134.5,-858.547 134.5,-849.569\" fill=\"none\" stroke=\"black\"/>\n",
       "<polygon fill=\"black\" points=\"138,-849.529 134.5,-839.529 131,-849.529 138,-849.529\" stroke=\"black\"/>\n",
       "</g>\n",
       "<!-- 139850432244032 -->\n",
       "<g class=\"node\" id=\"node14\"><title>139850432244032</title>\n",
       "<polygon fill=\"none\" points=\"56,-730.5 56,-766.5 213,-766.5 213,-730.5 56,-730.5\" stroke=\"black\"/>\n",
       "<text font-family=\"Times,serif\" font-size=\"14.00\" text-anchor=\"middle\" x=\"134.5\" y=\"-744.8\">dropout_3: Dropout</text>\n",
       "</g>\n",
       "<!-- 139850432445464&#45;&gt;139850432244032 -->\n",
       "<g class=\"edge\" id=\"edge13\"><title>139850432445464-&gt;139850432244032</title>\n",
       "<path d=\"M134.5,-803.313C134.5,-795.289 134.5,-785.547 134.5,-776.569\" fill=\"none\" stroke=\"black\"/>\n",
       "<polygon fill=\"black\" points=\"138,-776.529 134.5,-766.529 131,-776.529 138,-776.529\" stroke=\"black\"/>\n",
       "</g>\n",
       "<!-- 139850432070544 -->\n",
       "<g class=\"node\" id=\"node15\"><title>139850432070544</title>\n",
       "<polygon fill=\"none\" points=\"42,-657.5 42,-693.5 227,-693.5 227,-657.5 42,-657.5\" stroke=\"black\"/>\n",
       "<text font-family=\"Times,serif\" font-size=\"14.00\" text-anchor=\"middle\" x=\"134.5\" y=\"-671.8\">Convolution_5: Conv2D</text>\n",
       "</g>\n",
       "<!-- 139850432244032&#45;&gt;139850432070544 -->\n",
       "<g class=\"edge\" id=\"edge14\"><title>139850432244032-&gt;139850432070544</title>\n",
       "<path d=\"M134.5,-730.313C134.5,-722.289 134.5,-712.547 134.5,-703.569\" fill=\"none\" stroke=\"black\"/>\n",
       "<polygon fill=\"black\" points=\"138,-703.529 134.5,-693.529 131,-703.529 138,-703.529\" stroke=\"black\"/>\n",
       "</g>\n",
       "<!-- 139864010469504 -->\n",
       "<g class=\"node\" id=\"node16\"><title>139864010469504</title>\n",
       "<polygon fill=\"none\" points=\"0,-584.5 0,-620.5 269,-620.5 269,-584.5 0,-584.5\" stroke=\"black\"/>\n",
       "<text font-family=\"Times,serif\" font-size=\"14.00\" text-anchor=\"middle\" x=\"134.5\" y=\"-598.8\">BatchNorm_5: BatchNormalization</text>\n",
       "</g>\n",
       "<!-- 139850432070544&#45;&gt;139864010469504 -->\n",
       "<g class=\"edge\" id=\"edge15\"><title>139850432070544-&gt;139864010469504</title>\n",
       "<path d=\"M134.5,-657.313C134.5,-649.289 134.5,-639.547 134.5,-630.569\" fill=\"none\" stroke=\"black\"/>\n",
       "<polygon fill=\"black\" points=\"138,-630.529 134.5,-620.529 131,-630.529 138,-630.529\" stroke=\"black\"/>\n",
       "</g>\n",
       "<!-- 139864010552880 -->\n",
       "<g class=\"node\" id=\"node17\"><title>139864010552880</title>\n",
       "<polygon fill=\"none\" points=\"9,-511.5 9,-547.5 260,-547.5 260,-511.5 9,-511.5\" stroke=\"black\"/>\n",
       "<text font-family=\"Times,serif\" font-size=\"14.00\" text-anchor=\"middle\" x=\"134.5\" y=\"-525.8\">MaxPooling2D_3: MaxPooling2D</text>\n",
       "</g>\n",
       "<!-- 139864010469504&#45;&gt;139864010552880 -->\n",
       "<g class=\"edge\" id=\"edge16\"><title>139864010469504-&gt;139864010552880</title>\n",
       "<path d=\"M134.5,-584.313C134.5,-576.289 134.5,-566.547 134.5,-557.569\" fill=\"none\" stroke=\"black\"/>\n",
       "<polygon fill=\"black\" points=\"138,-557.529 134.5,-547.529 131,-557.529 138,-557.529\" stroke=\"black\"/>\n",
       "</g>\n",
       "<!-- 139877585431408 -->\n",
       "<g class=\"node\" id=\"node18\"><title>139877585431408</title>\n",
       "<polygon fill=\"none\" points=\"64.5,-438.5 64.5,-474.5 204.5,-474.5 204.5,-438.5 64.5,-438.5\" stroke=\"black\"/>\n",
       "<text font-family=\"Times,serif\" font-size=\"14.00\" text-anchor=\"middle\" x=\"134.5\" y=\"-452.8\">flatten_1: Flatten</text>\n",
       "</g>\n",
       "<!-- 139864010552880&#45;&gt;139877585431408 -->\n",
       "<g class=\"edge\" id=\"edge17\"><title>139864010552880-&gt;139877585431408</title>\n",
       "<path d=\"M134.5,-511.313C134.5,-503.289 134.5,-493.547 134.5,-484.569\" fill=\"none\" stroke=\"black\"/>\n",
       "<polygon fill=\"black\" points=\"138,-484.529 134.5,-474.529 131,-484.529 138,-484.529\" stroke=\"black\"/>\n",
       "</g>\n",
       "<!-- 139864010427920 -->\n",
       "<g class=\"node\" id=\"node19\"><title>139864010427920</title>\n",
       "<polygon fill=\"none\" points=\"56,-365.5 56,-401.5 213,-401.5 213,-365.5 56,-365.5\" stroke=\"black\"/>\n",
       "<text font-family=\"Times,serif\" font-size=\"14.00\" text-anchor=\"middle\" x=\"134.5\" y=\"-379.8\">dropout_4: Dropout</text>\n",
       "</g>\n",
       "<!-- 139877585431408&#45;&gt;139864010427920 -->\n",
       "<g class=\"edge\" id=\"edge18\"><title>139877585431408-&gt;139864010427920</title>\n",
       "<path d=\"M134.5,-438.313C134.5,-430.289 134.5,-420.547 134.5,-411.569\" fill=\"none\" stroke=\"black\"/>\n",
       "<polygon fill=\"black\" points=\"138,-411.529 134.5,-401.529 131,-411.529 138,-411.529\" stroke=\"black\"/>\n",
       "</g>\n",
       "<!-- 139877585498856 -->\n",
       "<g class=\"node\" id=\"node20\"><title>139877585498856</title>\n",
       "<polygon fill=\"none\" points=\"69,-292.5 69,-328.5 200,-328.5 200,-292.5 69,-292.5\" stroke=\"black\"/>\n",
       "<text font-family=\"Times,serif\" font-size=\"14.00\" text-anchor=\"middle\" x=\"134.5\" y=\"-306.8\">Dense_1: Dense</text>\n",
       "</g>\n",
       "<!-- 139864010427920&#45;&gt;139877585498856 -->\n",
       "<g class=\"edge\" id=\"edge19\"><title>139864010427920-&gt;139877585498856</title>\n",
       "<path d=\"M134.5,-365.313C134.5,-357.289 134.5,-347.547 134.5,-338.569\" fill=\"none\" stroke=\"black\"/>\n",
       "<polygon fill=\"black\" points=\"138,-338.529 134.5,-328.529 131,-338.529 138,-338.529\" stroke=\"black\"/>\n",
       "</g>\n",
       "<!-- 139877585186432 -->\n",
       "<g class=\"node\" id=\"node21\"><title>139877585186432</title>\n",
       "<polygon fill=\"none\" points=\"56,-219.5 56,-255.5 213,-255.5 213,-219.5 56,-219.5\" stroke=\"black\"/>\n",
       "<text font-family=\"Times,serif\" font-size=\"14.00\" text-anchor=\"middle\" x=\"134.5\" y=\"-233.8\">dropout_5: Dropout</text>\n",
       "</g>\n",
       "<!-- 139877585498856&#45;&gt;139877585186432 -->\n",
       "<g class=\"edge\" id=\"edge20\"><title>139877585498856-&gt;139877585186432</title>\n",
       "<path d=\"M134.5,-292.313C134.5,-284.289 134.5,-274.547 134.5,-265.569\" fill=\"none\" stroke=\"black\"/>\n",
       "<polygon fill=\"black\" points=\"138,-265.529 134.5,-255.529 131,-265.529 138,-265.529\" stroke=\"black\"/>\n",
       "</g>\n",
       "<!-- 139877585278960 -->\n",
       "<g class=\"node\" id=\"node22\"><title>139877585278960</title>\n",
       "<polygon fill=\"none\" points=\"69,-146.5 69,-182.5 200,-182.5 200,-146.5 69,-146.5\" stroke=\"black\"/>\n",
       "<text font-family=\"Times,serif\" font-size=\"14.00\" text-anchor=\"middle\" x=\"134.5\" y=\"-160.8\">Dense_2: Dense</text>\n",
       "</g>\n",
       "<!-- 139877585186432&#45;&gt;139877585278960 -->\n",
       "<g class=\"edge\" id=\"edge21\"><title>139877585186432-&gt;139877585278960</title>\n",
       "<path d=\"M134.5,-219.313C134.5,-211.289 134.5,-201.547 134.5,-192.569\" fill=\"none\" stroke=\"black\"/>\n",
       "<polygon fill=\"black\" points=\"138,-192.529 134.5,-182.529 131,-192.529 138,-192.529\" stroke=\"black\"/>\n",
       "</g>\n",
       "<!-- 139877585018496 -->\n",
       "<g class=\"node\" id=\"node23\"><title>139877585018496</title>\n",
       "<polygon fill=\"none\" points=\"56,-73.5 56,-109.5 213,-109.5 213,-73.5 56,-73.5\" stroke=\"black\"/>\n",
       "<text font-family=\"Times,serif\" font-size=\"14.00\" text-anchor=\"middle\" x=\"134.5\" y=\"-87.8\">dropout_6: Dropout</text>\n",
       "</g>\n",
       "<!-- 139877585278960&#45;&gt;139877585018496 -->\n",
       "<g class=\"edge\" id=\"edge22\"><title>139877585278960-&gt;139877585018496</title>\n",
       "<path d=\"M134.5,-146.313C134.5,-138.289 134.5,-128.547 134.5,-119.569\" fill=\"none\" stroke=\"black\"/>\n",
       "<polygon fill=\"black\" points=\"138,-119.529 134.5,-109.529 131,-119.529 138,-119.529\" stroke=\"black\"/>\n",
       "</g>\n",
       "<!-- 139877584582640 -->\n",
       "<g class=\"node\" id=\"node24\"><title>139877584582640</title>\n",
       "<polygon fill=\"none\" points=\"69,-0.5 69,-36.5 200,-36.5 200,-0.5 69,-0.5\" stroke=\"black\"/>\n",
       "<text font-family=\"Times,serif\" font-size=\"14.00\" text-anchor=\"middle\" x=\"134.5\" y=\"-14.8\">Dense_3: Dense</text>\n",
       "</g>\n",
       "<!-- 139877585018496&#45;&gt;139877584582640 -->\n",
       "<g class=\"edge\" id=\"edge23\"><title>139877585018496-&gt;139877584582640</title>\n",
       "<path d=\"M134.5,-73.3129C134.5,-65.2895 134.5,-55.5475 134.5,-46.5691\" fill=\"none\" stroke=\"black\"/>\n",
       "<polygon fill=\"black\" points=\"138,-46.5288 134.5,-36.5288 131,-46.5289 138,-46.5288\" stroke=\"black\"/>\n",
       "</g>\n",
       "</g>\n",
       "</svg>"
      ],
      "text/plain": [
       "<IPython.core.display.SVG object>"
      ]
     },
     "execution_count": 8,
     "metadata": {},
     "output_type": "execute_result"
    }
   ],
   "source": [
    "net = cnn_4(input1_shape=(64, 64, 1), n_classes=N_LABELS)\n",
    "\n",
    "SVG(model_to_dot(net, show_layer_names=True, show_shapes=False).create(prog='dot', format='svg'))"
   ]
  },
  {
   "cell_type": "code",
   "execution_count": 9,
   "metadata": {},
   "outputs": [
    {
     "name": "stdout",
     "output_type": "stream",
     "text": [
      "_________________________________________________________________\n",
      "Layer (type)                 Output Shape              Param #   \n",
      "=================================================================\n",
      "Input_1 (InputLayer)         (None, 64, 64, 1)         0         \n",
      "_________________________________________________________________\n",
      "dropout_1 (Dropout)          (None, 64, 64, 1)         0         \n",
      "_________________________________________________________________\n",
      "Convolution_1 (Conv2D)       (None, 64, 64, 64)        1664      \n",
      "_________________________________________________________________\n",
      "BatchNorm_1 (BatchNormalizat (None, 64, 64, 64)        256       \n",
      "_________________________________________________________________\n",
      "Convolution_2 (Conv2D)       (None, 64, 64, 64)        102464    \n",
      "_________________________________________________________________\n",
      "BatchNorm_2 (BatchNormalizat (None, 64, 64, 64)        256       \n",
      "_________________________________________________________________\n",
      "MaxPooling_1 (MaxPooling2D)  (None, 32, 32, 64)        0         \n",
      "_________________________________________________________________\n",
      "dropout_2 (Dropout)          (None, 32, 32, 64)        0         \n",
      "_________________________________________________________________\n",
      "Convolution_3 (Conv2D)       (None, 32, 32, 128)       204928    \n",
      "_________________________________________________________________\n",
      "BatchNorm_3 (BatchNormalizat (None, 32, 32, 128)       512       \n",
      "_________________________________________________________________\n",
      "Convolution_4 (Conv2D)       (None, 32, 32, 128)       409728    \n",
      "_________________________________________________________________\n",
      "BatchNorm_4 (BatchNormalizat (None, 32, 32, 128)       512       \n",
      "_________________________________________________________________\n",
      "MaxPooling_2 (MaxPooling2D)  (None, 16, 16, 128)       0         \n",
      "_________________________________________________________________\n",
      "dropout_3 (Dropout)          (None, 16, 16, 128)       0         \n",
      "_________________________________________________________________\n",
      "Convolution_5 (Conv2D)       (None, 16, 16, 256)       819456    \n",
      "_________________________________________________________________\n",
      "BatchNorm_5 (BatchNormalizat (None, 16, 16, 256)       1024      \n",
      "_________________________________________________________________\n",
      "MaxPooling2D_3 (MaxPooling2D (None, 7, 7, 256)         0         \n",
      "_________________________________________________________________\n",
      "flatten_1 (Flatten)          (None, 12544)             0         \n",
      "_________________________________________________________________\n",
      "dropout_4 (Dropout)          (None, 12544)             0         \n",
      "_________________________________________________________________\n",
      "Dense_1 (Dense)              (None, 3000)              37635000  \n",
      "_________________________________________________________________\n",
      "dropout_5 (Dropout)          (None, 3000)              0         \n",
      "_________________________________________________________________\n",
      "Dense_2 (Dense)              (None, 2500)              7502500   \n",
      "_________________________________________________________________\n",
      "dropout_6 (Dropout)          (None, 2500)              0         \n",
      "_________________________________________________________________\n",
      "Dense_3 (Dense)              (None, 1000)              2501000   \n",
      "=================================================================\n",
      "Total params: 49,179,300\n",
      "Trainable params: 49,178,020\n",
      "Non-trainable params: 1,280\n",
      "_________________________________________________________________\n"
     ]
    }
   ],
   "source": [
    "net.summary()"
   ]
  },
  {
   "cell_type": "code",
   "execution_count": 10,
   "metadata": {},
   "outputs": [],
   "source": [
    "net.compile(optimizer=Adadelta(), loss=categorical_crossentropy, metrics=['accuracy'])"
   ]
  },
  {
   "cell_type": "code",
   "execution_count": 21,
   "metadata": {},
   "outputs": [
    {
     "name": "stdout",
     "output_type": "stream",
     "text": [
      "Epoch 1/3\n",
      "332987/332987 [==============================] - 1513s 5ms/step - loss: 1.3837 - acc: 0.9720\n",
      "Epoch 2/3\n",
      "332987/332987 [==============================] - 1513s 5ms/step - loss: 1.4383 - acc: 0.9723\n",
      "Epoch 3/3\n",
      "332987/332987 [==============================] - 1513s 5ms/step - loss: 1.4878 - acc: 0.9722\n"
     ]
    },
    {
     "data": {
      "text/plain": [
       "<keras.callbacks.History at 0x7f37c8688be0>"
      ]
     },
     "execution_count": 21,
     "metadata": {},
     "output_type": "execute_result"
    }
   ],
   "source": [
    "net.fit(x=X_train,\n",
    "        y=y_train,\n",
    "        batch_size=BATCH_SZ * 2,\n",
    "        epochs=3)"
   ]
  },
  {
   "cell_type": "code",
   "execution_count": null,
   "metadata": {},
   "outputs": [],
   "source": [
    "y_pred_train = net.predict(x=X_train,\n",
    "                           batch_size=BATCH_SZ)\n",
    "\n",
    "y_pred_test = net.predict(x=X_test,\n",
    "                          batch_size=BATCH_SZ)"
   ]
  },
  {
   "cell_type": "code",
   "execution_count": null,
   "metadata": {},
   "outputs": [],
   "source": [
    "pred_train_l = np.argmax(y_pred_train, axis=1)\n",
    "y_train_l = np.argmax(y_train, axis=1)\n",
    "accuracy_train = np.equal(pred_train_l, y_train_l).mean() * 100\n",
    "\n",
    "pred_test_l = np.argmax(y_pred_test, axis=1)\n",
    "y_test_l = np.argmax(y_test, axis=1)\n",
    "accuracy_test = np.equal(pred_test_l, y_test_l).mean() * 100\n",
    "\n",
    "print(\"Accuracy on train %f\"%accuracy_train)\n",
    "print(\"Accuracy on test %f\"%accuracy_test)"
   ]
  },
  {
   "cell_type": "code",
   "execution_count": 12,
   "metadata": {},
   "outputs": [
    {
     "name": "stdout",
     "output_type": "stream",
     "text": [
      "test.npy is loaded\n"
     ]
    }
   ],
   "source": [
    "data_predic = np.load(\"../data/test/test.npy\").reshape(-1, 1)\n",
    "print(\"test.npy is loaded\")"
   ]
  },
  {
   "cell_type": "code",
   "execution_count": 13,
   "metadata": {},
   "outputs": [
    {
     "name": "stderr",
     "output_type": "stream",
     "text": [
      "/usr/local/lib/python3.5/dist-packages/skimage/transform/_warps.py:84: UserWarning: The default mode, 'constant', will be changed to 'reflect' in skimage 0.15.\n",
      "  warn(\"The default mode, 'constant', will be changed to 'reflect' in \"\n"
     ]
    }
   ],
   "source": [
    "predic_rszd = np.empty((data_predic.shape[0], IMG_SZ[0], IMG_SZ[1]))\n",
    "\n",
    "for i in range(predic_rszd.shape[0]):\n",
    "    predic_rszd[i] = resize(data_predic[i][0], IMG_SZ)"
   ]
  },
  {
   "cell_type": "code",
   "execution_count": 14,
   "metadata": {},
   "outputs": [],
   "source": [
    "predic_rszd -= predic_rszd.mean(axis=0)"
   ]
  },
  {
   "cell_type": "code",
   "execution_count": null,
   "metadata": {},
   "outputs": [],
   "source": [
    "np.save(\"../data/test/data_predic.npy\", predic_rszd)"
   ]
  },
  {
   "cell_type": "code",
   "execution_count": null,
   "metadata": {},
   "outputs": [],
   "source": [
    "predic_rszd = predic_rszd.reshape((predic_rszd.shape[0],\n",
    "                                   predic_rszd.shape[1],\n",
    "                                   predic_rszd.shape[2],\n",
    "                                   1))\n",
    "\n",
    "kag_pred = net.predict(x=predic_rszd, batch_size=BATCH_SZ)"
   ]
  },
  {
   "cell_type": "code",
   "execution_count": null,
   "metadata": {},
   "outputs": [],
   "source": [
    "kag_pred = np.argmax(kag_pred, axis=1).reshape(-1, 1)"
   ]
  },
  {
   "cell_type": "code",
   "execution_count": null,
   "metadata": {},
   "outputs": [],
   "source": [
    "for i in range(kag_pred.shape[0]):\n",
    "    kag_pred[i] = act_features[kag_pred[i]]"
   ]
  },
  {
   "cell_type": "code",
   "execution_count": null,
   "metadata": {},
   "outputs": [],
   "source": [
    "ind = np.asarray(list(range(1, kag_pred.shape[0] + 1))).reshape(-1, 1)"
   ]
  },
  {
   "cell_type": "code",
   "execution_count": null,
   "metadata": {},
   "outputs": [],
   "source": [
    "ind = np.concatenate((ind, kag_pred), axis=1)"
   ]
  },
  {
   "cell_type": "code",
   "execution_count": null,
   "metadata": {},
   "outputs": [],
   "source": [
    "np.savetxt(\"res.csv\", ind, delimiter=',', fmt=\"%d\", header=\"Id,Category\", comments=\"\")"
   ]
  }
 ],
 "metadata": {
  "kernelspec": {
   "display_name": "Python 3",
   "language": "python",
   "name": "python3"
  },
  "language_info": {
   "codemirror_mode": {
    "name": "ipython",
    "version": 3
   },
   "file_extension": ".py",
   "mimetype": "text/x-python",
   "name": "python",
   "nbconvert_exporter": "python",
   "pygments_lexer": "ipython3",
   "version": "3.6.3"
  },
  "varInspector": {
   "cols": {
    "lenName": 16,
    "lenType": 16,
    "lenVar": 40
   },
   "kernels_config": {
    "python": {
     "delete_cmd_postfix": "",
     "delete_cmd_prefix": "del ",
     "library": "var_list.py",
     "varRefreshCmd": "print(var_dic_list())"
    },
    "r": {
     "delete_cmd_postfix": ") ",
     "delete_cmd_prefix": "rm(",
     "library": "var_list.r",
     "varRefreshCmd": "cat(var_dic_list()) "
    }
   },
   "position": {
    "height": "296px",
    "left": "903px",
    "right": "19px",
    "top": "124px",
    "width": "358px"
   },
   "types_to_exclude": [
    "module",
    "function",
    "builtin_function_or_method",
    "instance",
    "_Feature"
   ],
   "window_display": false
  }
 },
 "nbformat": 4,
 "nbformat_minor": 2
}
